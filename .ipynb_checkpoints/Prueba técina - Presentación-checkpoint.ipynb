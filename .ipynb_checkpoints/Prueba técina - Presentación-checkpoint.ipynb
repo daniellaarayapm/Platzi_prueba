{
 "cells": [
  {
   "cell_type": "markdown",
   "metadata": {},
   "source": [
    "## Prueba técnica Platzi - Presentación\n",
    "### Daniella Araya \n",
    "### 4 de marzo 2022"
   ]
  },
  {
   "cell_type": "markdown",
   "metadata": {},
   "source": [
    "#### 1. Selección de datos y de problema\n",
    "\n",
    "1.1 Se seleccionaron datos de la plataforma de kaggle, el set de datos fue  SF salary gender ( la base de datos esta en el github) \n",
    "\n",
    "https://www.kaggle.com/ronaldtroncoso20/sf-salaries-extended\n",
    "\n",
    "1.2  El data set contiene información sobre salarios y genero entré otros datos. El problema a solucionar es si es que hay una diferencia entre salarios de mujeres y hombres, este problema involucra aspectos economicos y de inclusión ya que la brecha de genero en los salarios en algo interesante a analizar.\n",
    "\n",
    "* Hipotesis nula :  no existe una diferencia sustancial entre la diferencia de salarios entre hombres y mujeres para este set de datos.\n",
    "* Hipotesis alternativa:  si existe una diferencia sustancial entre la diferencia de salarios entre hombres y mujers para este set de datos.\n"
   ]
  },
  {
   "cell_type": "markdown",
   "metadata": {},
   "source": [
    "#### 2. Análisis exploratorio\n",
    "\n",
    "En este paso exploramos los datos para entender que tipo de datos son, cuantas columnas, si es que hay nulos, cuantos datos son etc. tambien en este paso aplicamos algunos cambios para dejar el dataframe lo mas ordenado y limpio posible para hacer los procesos de estadistica que deseamos hacer. Este paso está explicado en el jupyter notebook \"Prueba Técnica - Análisis\"\n",
    "\n",
    "Mayores insight que fueron encontrados, el set de datos es muy grande se ocuparon menos de 5.000 filas de datos para poder hacer la estimación ademas de borrar datos null y modificar algunos campos para el mejor entendimiento del analisis. "
   ]
  },
  {
   "cell_type": "markdown",
   "metadata": {},
   "source": [
    "#### 3. Resultados"
   ]
  },
  {
   "cell_type": "markdown",
   "metadata": {},
   "source": [
    "Como resultado final se rechaza la hipotesis nula, con un P de 2.3090 app por lo tanto si existe una diferencia sustancial entre los salarios de hombres y mujeres.\n"
   ]
  },
  {
   "cell_type": "markdown",
   "metadata": {},
   "source": [
    "#### En el gráfico abajo podemos ver la diferencia entre los salarios de los hombres y de las mujeres, lo cual ayuda a evidenciar que hay una diferencia tambien visual en ello.\n",
    "\n",
    "![Boxplot mujeres](box_plot_mujeres.png)\n"
   ]
  },
  {
   "cell_type": "markdown",
   "metadata": {},
   "source": [
    "\n",
    "![Boxplot_hombres](box_plot_hombres.png)\n"
   ]
  },
  {
   "cell_type": "code",
   "execution_count": null,
   "metadata": {},
   "outputs": [],
   "source": []
  },
  {
   "cell_type": "code",
   "execution_count": null,
   "metadata": {},
   "outputs": [],
   "source": []
  }
 ],
 "metadata": {
  "kernelspec": {
   "display_name": "Python 3",
   "language": "python",
   "name": "python3"
  },
  "language_info": {
   "codemirror_mode": {
    "name": "ipython",
    "version": 3
   },
   "file_extension": ".py",
   "mimetype": "text/x-python",
   "name": "python",
   "nbconvert_exporter": "python",
   "pygments_lexer": "ipython3",
   "version": "3.7.7"
  }
 },
 "nbformat": 4,
 "nbformat_minor": 5
}
